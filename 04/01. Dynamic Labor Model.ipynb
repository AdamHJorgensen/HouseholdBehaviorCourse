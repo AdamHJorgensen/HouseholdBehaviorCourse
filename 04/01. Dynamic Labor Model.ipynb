{
 "cells": [
  {
   "cell_type": "markdown",
   "metadata": {},
   "source": [
    "# Life-Cycle Labor Supply"
   ]
  },
  {
   "cell_type": "markdown",
   "metadata": {},
   "source": [
    "Solves and simulates a $T$-period labor supply model with consumption-saving in Keane(2016).\n",
    "\n",
    "The **Bellman equation** and the recursive formulation of the model is \n",
    "\n",
    "$$\n",
    "\\begin{align}\n",
    "V_{t}(a_{t},k_{t})=&\\max_{c_{t},h_{t}}\\frac{c_{t}^{1+\\eta}}{1+\\eta}-\\beta\\frac{h_{t}^{1+\\gamma}}{1+\\gamma}+\\rho V_{t+1}(a_{t+1},k_{t+1}) \\\\\n",
    "& \\text{s.t.} \\\\\n",
    "a_{t+1}=&(1+r)(a_{t}+(1-\\tau)w_{t}h_{t}-c_{t}) \\\\\n",
    "k_{t+1} =&k_{t}+h_{t}\n",
    "\\end{align}\n",
    "$$\n",
    "such that wages are endogenous\n",
    "$$\n",
    "\\begin{align}\n",
    "w_{t}&=w\\left(1+\\alpha k_{t}\\right)\\\\\n",
    "&=w\\left(1+\\alpha\\sum_{s=1}^{t-1}h_{s}\\right).\n",
    "\\end{align}\n",
    "$$\n",
    "\n",
    "We will solve this by **backwards induction**, assuming no bequest motive. The last-period problem becomes\n",
    "$$\n",
    "\\begin{align}\n",
    "V_{T}(a_T,k_T)=&\\max_{h_{T}}\\frac{c_{T}^{1+\\eta}}{1+\\eta}-\\beta\\frac{h_{T}^{1+\\gamma}}{1+\\gamma} \\\\\n",
    "& \\text{s.t.} \\\\\n",
    "c_T = &a_{T}+(1-\\tau)w_{T}h_{T}.\n",
    "\\end{align}\n",
    "$$"
   ]
  },
  {
   "cell_type": "markdown",
   "metadata": {},
   "source": [
    "## Setup"
   ]
  },
  {
   "cell_type": "code",
   "execution_count": 1,
   "metadata": {},
   "outputs": [],
   "source": [
    "%load_ext autoreload\n",
    "%autoreload 2\n",
    "\n",
    "import numpy as np\n",
    "import numba as nb\n",
    "\n",
    "import matplotlib.pyplot as plt\n",
    "from mpl_toolkits import mplot3d\n",
    "plt.style.use('seaborn-whitegrid')\n",
    "prop_cycle = plt.rcParams['axes.prop_cycle']\n",
    "colors = prop_cycle.by_key()['color']"
   ]
  },
  {
   "cell_type": "markdown",
   "metadata": {},
   "source": [
    "# Consumption-Saving Model"
   ]
  },
  {
   "cell_type": "code",
   "execution_count": 2,
   "metadata": {},
   "outputs": [],
   "source": [
    "# load local model file and initialize model class\n",
    "from DynLaborModel import DynLaborModelClass\n",
    "model = DynLaborModelClass(par={'T':2,'r':0.02,'rho':1/(1.02)}) # set a few number of periods. VERY slow."
   ]
  },
  {
   "cell_type": "code",
   "execution_count": 3,
   "metadata": {},
   "outputs": [],
   "source": [
    "par = model.par\n",
    "sol = model.sol\n",
    "sim = model.sim"
   ]
  },
  {
   "cell_type": "markdown",
   "metadata": {},
   "source": [
    "**Grids:** $\\overrightarrow{a}$ and $\\overrightarrow{k}$"
   ]
  },
  {
   "cell_type": "code",
   "execution_count": 4,
   "metadata": {},
   "outputs": [
    {
     "data": {
      "image/png": "[encoded data removed]",
      "text/plain": [
       "<Figure size 432x288 with 1 Axes>"
      ]
     },
     "metadata": {},
     "output_type": "display_data"
    }
   ],
   "source": [
    "fig, ax = plt.subplots()\n",
    "a_mesh,k_mesh = np.meshgrid(par.a_grid,par.k_grid,indexing='ij')\n",
    "ax.scatter(a_mesh,k_mesh)\n",
    "ax.set(xlabel='asset, a',ylabel='human capital, k');"
   ]
  },
  {
   "cell_type": "markdown",
   "metadata": {},
   "source": [
    "## Solve the model"
   ]
  },
  {
   "cell_type": "code",
   "execution_count": null,
   "metadata": {},
   "outputs": [],
   "source": [
    "model.solve()"
   ]
  },
  {
   "cell_type": "markdown",
   "metadata": {},
   "source": [
    "**Last period, $t=T$**"
   ]
  },
  {
   "cell_type": "code",
   "execution_count": null,
   "metadata": {},
   "outputs": [],
   "source": [
    "# last period\n",
    "t = par.T-1\n",
    "fig = plt.figure()\n",
    "ax = plt.axes(projection='3d')\n",
    "ax.plot_surface(a_mesh, k_mesh, sol.c[t],rstride=1,cstride=1,cmap='viridis', edgecolor='none',alpha=0.75);\n",
    "ax.set(xlabel='Wealth, $a_{T}$',ylabel='Human capital, $k_T$',zlabel='Consumption, $c_{T}^{\\star}$');\n",
    "\n",
    "fig = plt.figure()\n",
    "ax = plt.axes(projection='3d')\n",
    "ax.plot_surface(a_mesh, k_mesh, sol.h[t],rstride=1,cstride=1,cmap='viridis', edgecolor='none',alpha=0.75);\n",
    "ax.set(xlabel='Wealth, $a_{T}$',ylabel='Human capital, $k_T$',zlabel='Hours, $h_{T}^{\\star}$');\n",
    "\n",
    "fig = plt.figure()\n",
    "ax = plt.axes(projection='3d')\n",
    "ax.plot_surface(a_mesh, k_mesh, sol.V[t],rstride=1,cstride=1,cmap='viridis', edgecolor='none',alpha=0.75);\n",
    "ax.set(xlabel='Wealth, $a_{T}$',ylabel='Human capital, $k_T$',zlabel='Value, $V_{T}$');"
   ]
  },
  {
   "cell_type": "code",
   "execution_count": null,
   "metadata": {},
   "outputs": [],
   "source": [
    "# first period\n",
    "t = 0\n",
    "fig = plt.figure()\n",
    "ax = plt.axes(projection='3d')\n",
    "ax.plot_surface(a_mesh, k_mesh, sol.c[t],rstride=1,cstride=1,cmap='viridis', edgecolor='none',alpha=0.75);\n",
    "ax.set(xlabel='Wealth, $a_{T}$',ylabel='Human capital, $k_T$',zlabel='Consumption, $c_{T}^{\\star}$');\n",
    "\n",
    "fig = plt.figure()\n",
    "ax = plt.axes(projection='3d')\n",
    "ax.plot_surface(a_mesh, k_mesh, sol.h[t],rstride=1,cstride=1,cmap='viridis', edgecolor='none',alpha=0.75);\n",
    "ax.set(xlabel='Wealth, $a_{T}$',ylabel='Human capital, $k_T$',zlabel='Hours, $h_{T}^{\\star}$');\n",
    "\n",
    "fig = plt.figure()\n",
    "ax = plt.axes(projection='3d')\n",
    "ax.plot_surface(a_mesh, k_mesh, sol.V[t],rstride=1,cstride=1,cmap='viridis', edgecolor='none',alpha=0.75);\n",
    "ax.set(xlabel='Wealth, $a_{T}$',ylabel='Human capital, $k_T$',zlabel='Value, $V_{T}$');"
   ]
  },
  {
   "cell_type": "markdown",
   "metadata": {},
   "source": [
    "**Question 1:** "
   ]
  },
  {
   "cell_type": "markdown",
   "metadata": {},
   "source": [
    "## In-class exercise"
   ]
  },
  {
   "cell_type": "markdown",
   "metadata": {},
   "source": [
    "1. Look at the code and talk about it with the person next to you for 5 minutes\n",
    "2. Write at least one question"
   ]
  },
  {
   "cell_type": "markdown",
   "metadata": {},
   "source": [
    "## Simulation\n",
    "\n",
    "With the solution at hand we can now simulate `simN` synthetic individuals for `simT` periods. We do so by initializing all state-variables in the first period and simulate forwards. \n",
    "\n",
    "Initial wealth and human capital are the state variables in our model, and we start by initilizing all individuals with no wealth, `sim.a_init=np.zeros(par.simN)` and no human capital `sim.k_init=np.zeros(par.simN)`. We then loop forward using the solution:\n",
    "$$\n",
    "\\begin{align}\n",
    "c_{i,t} &= c_t^{\\star}(a_{i,t},k_{i,t}) \\\\\n",
    "h_{i,t} &= h_t^{\\star}(a_{i,t},k_{i,t}) \\\\\n",
    "y_{i,t} &= (1-\\tau) \\cdot  w\\cdot(1+\\alpha k_{i,t}) \\cdot h_{i,t}\\\\\n",
    "a_{i,t+1} &= (1+r)(a_{i,t} + y_{i,t} - c_{i,t})\\\\\n",
    "k_{i,t+1} &= k_{i,t} + h_{i,t}\\\\\n",
    "\\end{align}\n",
    "$$"
   ]
  },
  {
   "cell_type": "code",
   "execution_count": null,
   "metadata": {},
   "outputs": [],
   "source": [
    "model.simulate()"
   ]
  },
  {
   "cell_type": "code",
   "execution_count": null,
   "metadata": {},
   "outputs": [],
   "source": [
    "fig, ax = plt.subplots()\n",
    "ax.scatter(range(par.simT),np.mean(sim.c,axis=0))\n",
    "ax.set(xlabel='period, t',ylabel='Avg. consumption',ylim=[0,2],xticks=range(par.simT));"
   ]
  },
  {
   "cell_type": "code",
   "execution_count": null,
   "metadata": {},
   "outputs": [],
   "source": [
    "fig, ax = plt.subplots()\n",
    "ax.scatter(range(par.simT),np.mean(sim.a,axis=0))\n",
    "ax.set(xlabel='period, t',ylabel='Avg. assets',ylim=[0,2],xticks=range(par.simT));"
   ]
  },
  {
   "cell_type": "markdown",
   "metadata": {},
   "source": [
    "**Question 2:** \n",
    "\n",
    "**Question 3:** \n",
    "\n",
    "**Question 4:**"
   ]
  },
  {
   "cell_type": "markdown",
   "metadata": {},
   "source": [
    "## In-class exercise"
   ]
  },
  {
   "cell_type": "markdown",
   "metadata": {},
   "source": [
    "1. Look at the code and talk about it with the person next to you for 5 minutes\n",
    "2. Write at least one question"
   ]
  }
 ],
 "metadata": {
  "kernelspec": {
   "display_name": "Python 3",
   "language": "python",
   "name": "python3"
  },
  "language_info": {
   "codemirror_mode": {
    "name": "ipython",
    "version": 3
   },
   "file_extension": ".py",
   "mimetype": "text/x-python",
   "name": "python",
   "nbconvert_exporter": "python",
   "pygments_lexer": "ipython3",
   "version": "3.8.3"
  },
  "toc-autonumbering": true
 },
 "nbformat": 4,
 "nbformat_minor": 4
}
